{
 "cells": [
  {
   "cell_type": "code",
   "execution_count": 1,
   "metadata": {},
   "outputs": [],
   "source": [
    "import pandas as pd\n",
    "import os\n",
    "import minsearch\n",
    "from openai import OpenAI\n",
    "from tqdm.auto import tqdm\n",
    "import random\n",
    "import json"
   ]
  },
  {
   "cell_type": "markdown",
   "metadata": {},
   "source": [
    "### Ingestion"
   ]
  },
  {
   "cell_type": "code",
   "execution_count": 2,
   "metadata": {},
   "outputs": [
    {
     "name": "stdout",
     "output_type": "stream",
     "text": [
      "File already exists.\n"
     ]
    }
   ],
   "source": [
    "# download minsearch\n",
    "if not os.path.exists('minsearch.py'):\n",
    "    # Download only if minsearch.py does not exist\n",
    "    !wget https://raw.githubusercontent.com/alexeygrigorev/minsearch/main/minsearch.py\n",
    "else:\n",
    "    print(\"File already exists.\")"
   ]
  },
  {
   "cell_type": "code",
   "execution_count": 3,
   "metadata": {},
   "outputs": [
    {
     "data": {
      "text/html": [
       "<div>\n",
       "<style scoped>\n",
       "    .dataframe tbody tr th:only-of-type {\n",
       "        vertical-align: middle;\n",
       "    }\n",
       "\n",
       "    .dataframe tbody tr th {\n",
       "        vertical-align: top;\n",
       "    }\n",
       "\n",
       "    .dataframe thead th {\n",
       "        text-align: right;\n",
       "    }\n",
       "</style>\n",
       "<table border=\"1\" class=\"dataframe\">\n",
       "  <thead>\n",
       "    <tr style=\"text-align: right;\">\n",
       "      <th></th>\n",
       "      <th>id</th>\n",
       "      <th>pose_name</th>\n",
       "      <th>type_of_practice</th>\n",
       "      <th>variation</th>\n",
       "      <th>position</th>\n",
       "      <th>difficulty</th>\n",
       "      <th>props_required</th>\n",
       "      <th>body_focus</th>\n",
       "      <th>benefits</th>\n",
       "      <th>synonyms</th>\n",
       "      <th>instructions</th>\n",
       "      <th>context</th>\n",
       "    </tr>\n",
       "  </thead>\n",
       "  <tbody>\n",
       "    <tr>\n",
       "      <th>0</th>\n",
       "      <td>7ce8c60e</td>\n",
       "      <td>Downward Dog</td>\n",
       "      <td>Yin</td>\n",
       "      <td>Twisted</td>\n",
       "      <td>Mixed</td>\n",
       "      <td>Intermediate</td>\n",
       "      <td>Chair</td>\n",
       "      <td>Flexibility</td>\n",
       "      <td>Builds strength</td>\n",
       "      <td>Downward Dog Alternative, Downward Dog Variation</td>\n",
       "      <td>Stand with your feet wide apart, and turn one ...</td>\n",
       "      <td>Best used in Downward Dog sequences or routine...</td>\n",
       "    </tr>\n",
       "    <tr>\n",
       "      <th>1</th>\n",
       "      <td>81650e9f</td>\n",
       "      <td>Eagle Pose</td>\n",
       "      <td>Yin</td>\n",
       "      <td>Reclining</td>\n",
       "      <td>Standing</td>\n",
       "      <td>Beginner</td>\n",
       "      <td>Not Required</td>\n",
       "      <td>Balance</td>\n",
       "      <td>Improves balance</td>\n",
       "      <td>Eagle Pose Alternative, Eagle Pose Variation</td>\n",
       "      <td>Lie on your back, bend your knees, and lift yo...</td>\n",
       "      <td>Best used in Eagle Pose sequences or routines ...</td>\n",
       "    </tr>\n",
       "    <tr>\n",
       "      <th>2</th>\n",
       "      <td>2217a7ac</td>\n",
       "      <td>Upward Dog</td>\n",
       "      <td>Restorative</td>\n",
       "      <td>No Variation</td>\n",
       "      <td>Mixed</td>\n",
       "      <td>Intermediate</td>\n",
       "      <td>Blanket</td>\n",
       "      <td>Core</td>\n",
       "      <td>Improves posture</td>\n",
       "      <td>Upward Dog Alternative, Upward Dog Variation</td>\n",
       "      <td>Lie flat on your back with arms at your sides....</td>\n",
       "      <td>Best used in Upward Dog sequences or routines ...</td>\n",
       "    </tr>\n",
       "    <tr>\n",
       "      <th>3</th>\n",
       "      <td>988e61a6</td>\n",
       "      <td>Triangle Pose</td>\n",
       "      <td>Vinyasa</td>\n",
       "      <td>Seated</td>\n",
       "      <td>Lying Down</td>\n",
       "      <td>Intermediate</td>\n",
       "      <td>Block</td>\n",
       "      <td>Core</td>\n",
       "      <td>Increases energy</td>\n",
       "      <td>Triangle Pose Alternative, Triangle Pose Varia...</td>\n",
       "      <td>Kneel on the mat, then sit back on your heels....</td>\n",
       "      <td>Best used in Triangle Pose sequences or routin...</td>\n",
       "    </tr>\n",
       "    <tr>\n",
       "      <th>4</th>\n",
       "      <td>bd927dc7</td>\n",
       "      <td>Downward Dog</td>\n",
       "      <td>Ashtanga</td>\n",
       "      <td>With Block</td>\n",
       "      <td>Lying Down</td>\n",
       "      <td>Beginner</td>\n",
       "      <td>Chair</td>\n",
       "      <td>Back</td>\n",
       "      <td>Builds strength</td>\n",
       "      <td>Downward Dog Alternative, Downward Dog Variation</td>\n",
       "      <td>Lie flat on your back with arms at your sides....</td>\n",
       "      <td>Best used in Downward Dog sequences or routine...</td>\n",
       "    </tr>\n",
       "  </tbody>\n",
       "</table>\n",
       "</div>"
      ],
      "text/plain": [
       "         id      pose_name type_of_practice     variation    position  \\\n",
       "0  7ce8c60e   Downward Dog              Yin       Twisted       Mixed   \n",
       "1  81650e9f     Eagle Pose              Yin     Reclining    Standing   \n",
       "2  2217a7ac     Upward Dog      Restorative  No Variation       Mixed   \n",
       "3  988e61a6  Triangle Pose          Vinyasa        Seated  Lying Down   \n",
       "4  bd927dc7   Downward Dog         Ashtanga    With Block  Lying Down   \n",
       "\n",
       "     difficulty props_required   body_focus          benefits  \\\n",
       "0  Intermediate          Chair  Flexibility   Builds strength   \n",
       "1      Beginner   Not Required      Balance  Improves balance   \n",
       "2  Intermediate        Blanket         Core  Improves posture   \n",
       "3  Intermediate          Block         Core  Increases energy   \n",
       "4      Beginner          Chair         Back   Builds strength   \n",
       "\n",
       "                                            synonyms  \\\n",
       "0   Downward Dog Alternative, Downward Dog Variation   \n",
       "1       Eagle Pose Alternative, Eagle Pose Variation   \n",
       "2       Upward Dog Alternative, Upward Dog Variation   \n",
       "3  Triangle Pose Alternative, Triangle Pose Varia...   \n",
       "4   Downward Dog Alternative, Downward Dog Variation   \n",
       "\n",
       "                                        instructions  \\\n",
       "0  Stand with your feet wide apart, and turn one ...   \n",
       "1  Lie on your back, bend your knees, and lift yo...   \n",
       "2  Lie flat on your back with arms at your sides....   \n",
       "3  Kneel on the mat, then sit back on your heels....   \n",
       "4  Lie flat on your back with arms at your sides....   \n",
       "\n",
       "                                             context  \n",
       "0  Best used in Downward Dog sequences or routine...  \n",
       "1  Best used in Eagle Pose sequences or routines ...  \n",
       "2  Best used in Upward Dog sequences or routines ...  \n",
       "3  Best used in Triangle Pose sequences or routin...  \n",
       "4  Best used in Downward Dog sequences or routine...  "
      ]
     },
     "execution_count": 3,
     "metadata": {},
     "output_type": "execute_result"
    }
   ],
   "source": [
    "# Load the data and display the first few rows\n",
    "data = pd.read_csv('/workspaces/fitness-assistant-rag/data/yoga_poses.csv')\n",
    "data.head()"
   ]
  },
  {
   "cell_type": "code",
   "execution_count": 4,
   "metadata": {},
   "outputs": [],
   "source": [
    "# Convert the data to a list of dictionaries\n",
    "documents = data.to_dict(orient='records')"
   ]
  },
  {
   "cell_type": "code",
   "execution_count": 5,
   "metadata": {},
   "outputs": [],
   "source": [
    "# Create an index for the search engine\n",
    "index = minsearch.Index(\n",
    "    text_fields=['pose_name', 'type_of_practice', 'variation', 'position',\n",
    "       'difficulty', 'props_required', 'body_focus', 'benefits',\n",
    "       'instructions'],\n",
    "    keyword_fields=['id']\n",
    ")"
   ]
  },
  {
   "cell_type": "code",
   "execution_count": 6,
   "metadata": {},
   "outputs": [
    {
     "data": {
      "text/plain": [
       "<minsearch.Index at 0x7cd68b352bd0>"
      ]
     },
     "execution_count": 6,
     "metadata": {},
     "output_type": "execute_result"
    }
   ],
   "source": [
    "# Add the documents to the index\n",
    "index.fit(documents)"
   ]
  },
  {
   "cell_type": "markdown",
   "metadata": {},
   "source": [
    "### RAG Flow"
   ]
  },
  {
   "cell_type": "code",
   "execution_count": 7,
   "metadata": {},
   "outputs": [],
   "source": [
    "# Connect to OpenAI\n",
    "client = OpenAI()"
   ]
  },
  {
   "cell_type": "code",
   "execution_count": 8,
   "metadata": {},
   "outputs": [],
   "source": [
    "def search(query):\n",
    "    boost = {}\n",
    "\n",
    "    results = index.search(\n",
    "        query=query,\n",
    "        filter_dict={},\n",
    "        boost_dict=boost,\n",
    "        num_results=10\n",
    "    )\n",
    "\n",
    "    return results"
   ]
  },
  {
   "cell_type": "code",
   "execution_count": 9,
   "metadata": {},
   "outputs": [],
   "source": [
    "prompt_template = \"\"\"\n",
    "You are a yoga guru with access to a comprehensive yoga poses database. Answer the QUESTION using only the information provided in the CONTEXT.\n",
    "Treat similar words as synonyms and recognize variations of terms as equivalent.\n",
    "Be concise, avoid repetition, and strictly adhere to the CONTEXT. \n",
    "If there are variations of the pose in the CONTEXT, tell the user about it.\n",
    "\n",
    "QUESTION: {question}\n",
    "\n",
    "CONTEXT:\n",
    "{context}\n",
    "\"\"\".strip()\n",
    "\n",
    "entry_template = \"\"\"\n",
    "Pose: {pose_name}\n",
    "Practice: {type_of_practice}\n",
    "Variation: {variation}\n",
    "Position: {position}\n",
    "Difficulty: {difficulty}\n",
    "Props: {props_required}\n",
    "Focus: {body_focus}\n",
    "Benefits: {benefits}\n",
    "Instructions: {instructions}\n",
    "\"\"\".strip()\n",
    "\n",
    "def build_prompt(query, search_results):\n",
    "    context = \"\\n\\n\".join([entry_template.format(**doc) for doc in search_results])\n",
    "    return prompt_template.format(question=query, context=context)"
   ]
  },
  {
   "cell_type": "code",
   "execution_count": 10,
   "metadata": {},
   "outputs": [],
   "source": [
    "def llm(prompt, model='gpt-4o-mini'):\n",
    "    response = client.chat.completions.create(\n",
    "        model=model,\n",
    "        messages=[{\"role\": \"user\", \"content\": prompt}]\n",
    "    )\n",
    "    \n",
    "    return response.choices[0].message.content"
   ]
  },
  {
   "cell_type": "code",
   "execution_count": 11,
   "metadata": {},
   "outputs": [],
   "source": [
    "def rag(query, model='gpt-4o-mini'):\n",
    "    search_results = search(query)\n",
    "    prompt = build_prompt(query, search_results)\n",
    "    #print(prompt)\n",
    "    answer = llm(prompt, model=model)\n",
    "    return answer"
   ]
  },
  {
   "cell_type": "code",
   "execution_count": 12,
   "metadata": {},
   "outputs": [
    {
     "name": "stdout",
     "output_type": "stream",
     "text": [
      "To perform the variation of Warrior I with a block, follow these instructions:\n",
      "\n",
      "1. **Position**: Begin by kneeling on the mat and sitting back on your heels.\n",
      "2. **Set Up**: Place a block in front of you for support.\n",
      "3. **Movement**: Stretch your arms forward, lowering your chest towards the mat while keeping your core engaged.\n",
      "4. **Breathing**: Breathe deeply and relax into the pose.\n",
      "\n",
      "This Warrior I variation focuses on the back and is practiced in restorative sessions.\n"
     ]
    }
   ],
   "source": [
    "question = \"How do I perform the variation of Warrior I with a block?\"\n",
    "answer = rag(question)\n",
    "print(answer)"
   ]
  },
  {
   "cell_type": "markdown",
   "metadata": {},
   "source": [
    "### Retrieval Evaluation"
   ]
  },
  {
   "cell_type": "code",
   "execution_count": 13,
   "metadata": {},
   "outputs": [],
   "source": [
    "data_question = pd.read_csv('../data/ground-truth-retrieval.csv')"
   ]
  },
  {
   "cell_type": "code",
   "execution_count": 14,
   "metadata": {},
   "outputs": [
    {
     "data": {
      "text/html": [
       "<div>\n",
       "<style scoped>\n",
       "    .dataframe tbody tr th:only-of-type {\n",
       "        vertical-align: middle;\n",
       "    }\n",
       "\n",
       "    .dataframe tbody tr th {\n",
       "        vertical-align: top;\n",
       "    }\n",
       "\n",
       "    .dataframe thead th {\n",
       "        text-align: right;\n",
       "    }\n",
       "</style>\n",
       "<table border=\"1\" class=\"dataframe\">\n",
       "  <thead>\n",
       "    <tr style=\"text-align: right;\">\n",
       "      <th></th>\n",
       "      <th>id</th>\n",
       "      <th>question</th>\n",
       "    </tr>\n",
       "  </thead>\n",
       "  <tbody>\n",
       "    <tr>\n",
       "      <th>0</th>\n",
       "      <td>7ce8c60e</td>\n",
       "      <td>What modifications can I make to the Downward ...</td>\n",
       "    </tr>\n",
       "    <tr>\n",
       "      <th>1</th>\n",
       "      <td>7ce8c60e</td>\n",
       "      <td>How does the Twisted variation of Downward Dog...</td>\n",
       "    </tr>\n",
       "    <tr>\n",
       "      <th>2</th>\n",
       "      <td>7ce8c60e</td>\n",
       "      <td>What are some common mistakes practitioners ma...</td>\n",
       "    </tr>\n",
       "    <tr>\n",
       "      <th>3</th>\n",
       "      <td>7ce8c60e</td>\n",
       "      <td>Can you explain how to safely integrate a chai...</td>\n",
       "    </tr>\n",
       "    <tr>\n",
       "      <th>4</th>\n",
       "      <td>7ce8c60e</td>\n",
       "      <td>In what sequences or routines is the Twisted D...</td>\n",
       "    </tr>\n",
       "  </tbody>\n",
       "</table>\n",
       "</div>"
      ],
      "text/plain": [
       "         id                                           question\n",
       "0  7ce8c60e  What modifications can I make to the Downward ...\n",
       "1  7ce8c60e  How does the Twisted variation of Downward Dog...\n",
       "2  7ce8c60e  What are some common mistakes practitioners ma...\n",
       "3  7ce8c60e  Can you explain how to safely integrate a chai...\n",
       "4  7ce8c60e  In what sequences or routines is the Twisted D..."
      ]
     },
     "execution_count": 14,
     "metadata": {},
     "output_type": "execute_result"
    }
   ],
   "source": [
    "data_question.head()"
   ]
  },
  {
   "cell_type": "code",
   "execution_count": 15,
   "metadata": {},
   "outputs": [],
   "source": [
    "ground_truth = data_question.to_dict(orient='records')"
   ]
  },
  {
   "cell_type": "code",
   "execution_count": 16,
   "metadata": {},
   "outputs": [
    {
     "data": {
      "text/plain": [
       "{'id': '7ce8c60e',\n",
       " 'question': 'What modifications can I make to the Downward Dog pose to adapt it for my level as a beginner?'}"
      ]
     },
     "execution_count": 16,
     "metadata": {},
     "output_type": "execute_result"
    }
   ],
   "source": [
    "ground_truth[0]"
   ]
  },
  {
   "cell_type": "code",
   "execution_count": 17,
   "metadata": {},
   "outputs": [],
   "source": [
    "def hit_rate(relevance_total):\n",
    "    cnt = 0\n",
    "\n",
    "    for line in relevance_total:\n",
    "        if True in line:\n",
    "            cnt = cnt + 1\n",
    "\n",
    "    return cnt / len(relevance_total)\n",
    "\n",
    "def mrr(relevance_total):\n",
    "    total_score = 0.0\n",
    "\n",
    "    for line in relevance_total:\n",
    "        for rank in range(len(line)):\n",
    "            if line[rank] == True:\n",
    "                total_score = total_score + 1 / (rank + 1)\n",
    "\n",
    "    return total_score / len(relevance_total)"
   ]
  },
  {
   "cell_type": "code",
   "execution_count": 18,
   "metadata": {},
   "outputs": [],
   "source": [
    "def minsearch_search(query):\n",
    "    boost = {}\n",
    "\n",
    "    results = index.search(\n",
    "        query=query,\n",
    "        filter_dict={},\n",
    "        boost_dict=boost,\n",
    "        num_results=10\n",
    "    )\n",
    "\n",
    "    return results"
   ]
  },
  {
   "cell_type": "code",
   "execution_count": 19,
   "metadata": {},
   "outputs": [],
   "source": [
    "def evaluate(ground_truth, search_function):\n",
    "    relevance_total = []\n",
    "\n",
    "    for q in tqdm(ground_truth):\n",
    "        doc_id = q['id']\n",
    "        results = search_function(q)\n",
    "        relevance = [d['id'] == doc_id for d in results]\n",
    "        relevance_total.append(relevance)\n",
    "\n",
    "    return {\n",
    "        'hit_rate': hit_rate(relevance_total),\n",
    "        'mrr': mrr(relevance_total),\n",
    "    }"
   ]
  },
  {
   "cell_type": "code",
   "execution_count": 20,
   "metadata": {},
   "outputs": [
    {
     "data": {
      "application/vnd.jupyter.widget-view+json": {
       "model_id": "ca3c212ede4041d5b023c5bda7e958b7",
       "version_major": 2,
       "version_minor": 0
      },
      "text/plain": [
       "  0%|          | 0/720 [00:00<?, ?it/s]"
      ]
     },
     "metadata": {},
     "output_type": "display_data"
    },
    {
     "data": {
      "text/plain": [
       "{'hit_rate': 0.8694444444444445, 'mrr': 0.5250424382716046}"
      ]
     },
     "execution_count": 20,
     "metadata": {},
     "output_type": "execute_result"
    }
   ],
   "source": [
    "evaluate(ground_truth, lambda q: minsearch_search(q['question']))"
   ]
  },
  {
   "cell_type": "markdown",
   "metadata": {},
   "source": [
    "### Finding the best paramenters"
   ]
  },
  {
   "cell_type": "code",
   "execution_count": 31,
   "metadata": {},
   "outputs": [],
   "source": [
    "data_validation = data_question[:360]\n",
    "data_test = data_question[360:]"
   ]
  },
  {
   "cell_type": "code",
   "execution_count": 32,
   "metadata": {},
   "outputs": [],
   "source": [
    "def simple_optimize(param_ranges, objective_function, n_iterations=10):\n",
    "    best_params = None\n",
    "    best_score = float('-inf')  # Assuming we're minimizing. Use float('-inf') if maximizing.\n",
    "\n",
    "    for _ in range(n_iterations):\n",
    "        # Generate random parameters\n",
    "        current_params = {}\n",
    "        for param, (min_val, max_val) in param_ranges.items():\n",
    "            if isinstance(min_val, int) and isinstance(max_val, int):\n",
    "                current_params[param] = random.randint(min_val, max_val)\n",
    "            else:\n",
    "                current_params[param] = random.uniform(min_val, max_val)\n",
    "        \n",
    "        # Evaluate the objective function\n",
    "        current_score = objective_function(current_params)\n",
    "        \n",
    "        # Update best if current is better\n",
    "        if current_score > best_score:  # Change to > if maximizing\n",
    "            best_score = current_score\n",
    "            best_params = current_params\n",
    "    \n",
    "    return best_params, best_score\n"
   ]
  },
  {
   "cell_type": "code",
   "execution_count": 33,
   "metadata": {},
   "outputs": [],
   "source": [
    "gt_val = data_validation.to_dict(orient='records')"
   ]
  },
  {
   "cell_type": "code",
   "execution_count": 34,
   "metadata": {},
   "outputs": [],
   "source": [
    "def minsearch_search(query, boost=None):\n",
    "    if boost is None:\n",
    "        boost = {}\n",
    "\n",
    "    results = index.search(\n",
    "        query=query,\n",
    "        filter_dict={},\n",
    "        boost_dict=boost,\n",
    "        num_results=10\n",
    "    )\n",
    "\n",
    "    return results"
   ]
  },
  {
   "cell_type": "code",
   "execution_count": 35,
   "metadata": {},
   "outputs": [],
   "source": [
    "param_ranges = {\n",
    "    'pose_name': (0.0, 3.0),\n",
    "    'type_of_practice': (0.0, 3.0),\n",
    "    'variation': (0.0, 3.0),\n",
    "    'position': (0.0, 3.0),\n",
    "    'difficulty': (0.0, 3.0),\n",
    "    'props_required': (0.0, 3.0),\n",
    "    'body_focus': (0.0, 3.0),\n",
    "    'benefits': (0.0, 3.0),\n",
    "    'synonyms': (0.0, 3.0),\n",
    "    'instructions': (0.0, 3.0),\n",
    "    'context': (0.0, 3.0)\n",
    "}\n",
    "\n",
    "def objective(boost_params):\n",
    "    def search_function(q):\n",
    "        return minsearch_search(q['question'], boost_params)\n",
    "\n",
    "    results = evaluate(gt_val, search_function)\n",
    "    return results['mrr']"
   ]
  },
  {
   "cell_type": "code",
   "execution_count": 36,
   "metadata": {},
   "outputs": [
    {
     "data": {
      "application/vnd.jupyter.widget-view+json": {
       "model_id": "128a8ebb27954ce09bd52766fd3c97f9",
       "version_major": 2,
       "version_minor": 0
      },
      "text/plain": [
       "  0%|          | 0/360 [00:00<?, ?it/s]"
      ]
     },
     "metadata": {},
     "output_type": "display_data"
    },
    {
     "data": {
      "application/vnd.jupyter.widget-view+json": {
       "model_id": "3f9b040cfb9e445fa3648e12215fe45f",
       "version_major": 2,
       "version_minor": 0
      },
      "text/plain": [
       "  0%|          | 0/360 [00:00<?, ?it/s]"
      ]
     },
     "metadata": {},
     "output_type": "display_data"
    },
    {
     "data": {
      "application/vnd.jupyter.widget-view+json": {
       "model_id": "77aaf93a25f64078bf61887a71654bef",
       "version_major": 2,
       "version_minor": 0
      },
      "text/plain": [
       "  0%|          | 0/360 [00:00<?, ?it/s]"
      ]
     },
     "metadata": {},
     "output_type": "display_data"
    },
    {
     "data": {
      "application/vnd.jupyter.widget-view+json": {
       "model_id": "a06b6ae86a7a4cccae34c9eb8bce56d2",
       "version_major": 2,
       "version_minor": 0
      },
      "text/plain": [
       "  0%|          | 0/360 [00:00<?, ?it/s]"
      ]
     },
     "metadata": {},
     "output_type": "display_data"
    },
    {
     "data": {
      "application/vnd.jupyter.widget-view+json": {
       "model_id": "04bd8e833b89457d895c20fdd202f491",
       "version_major": 2,
       "version_minor": 0
      },
      "text/plain": [
       "  0%|          | 0/360 [00:00<?, ?it/s]"
      ]
     },
     "metadata": {},
     "output_type": "display_data"
    },
    {
     "data": {
      "application/vnd.jupyter.widget-view+json": {
       "model_id": "798046b60f7f45cb92608dd9ea3e1497",
       "version_major": 2,
       "version_minor": 0
      },
      "text/plain": [
       "  0%|          | 0/360 [00:00<?, ?it/s]"
      ]
     },
     "metadata": {},
     "output_type": "display_data"
    },
    {
     "data": {
      "application/vnd.jupyter.widget-view+json": {
       "model_id": "e58d079fb2b84324bb8ff33b79926781",
       "version_major": 2,
       "version_minor": 0
      },
      "text/plain": [
       "  0%|          | 0/360 [00:00<?, ?it/s]"
      ]
     },
     "metadata": {},
     "output_type": "display_data"
    },
    {
     "data": {
      "application/vnd.jupyter.widget-view+json": {
       "model_id": "86d3d49a3328416fa48e084250b8b8c2",
       "version_major": 2,
       "version_minor": 0
      },
      "text/plain": [
       "  0%|          | 0/360 [00:00<?, ?it/s]"
      ]
     },
     "metadata": {},
     "output_type": "display_data"
    },
    {
     "data": {
      "application/vnd.jupyter.widget-view+json": {
       "model_id": "db208af2b79141b79d2f7a504e644b45",
       "version_major": 2,
       "version_minor": 0
      },
      "text/plain": [
       "  0%|          | 0/360 [00:00<?, ?it/s]"
      ]
     },
     "metadata": {},
     "output_type": "display_data"
    },
    {
     "data": {
      "application/vnd.jupyter.widget-view+json": {
       "model_id": "2620f504056f4cab9eb263a879114c94",
       "version_major": 2,
       "version_minor": 0
      },
      "text/plain": [
       "  0%|          | 0/360 [00:00<?, ?it/s]"
      ]
     },
     "metadata": {},
     "output_type": "display_data"
    },
    {
     "data": {
      "application/vnd.jupyter.widget-view+json": {
       "model_id": "9ea87db2bde94e0c9c504c9f0a433cb8",
       "version_major": 2,
       "version_minor": 0
      },
      "text/plain": [
       "  0%|          | 0/360 [00:00<?, ?it/s]"
      ]
     },
     "metadata": {},
     "output_type": "display_data"
    },
    {
     "data": {
      "application/vnd.jupyter.widget-view+json": {
       "model_id": "31d38f06f75c45dda7b6a042636806bc",
       "version_major": 2,
       "version_minor": 0
      },
      "text/plain": [
       "  0%|          | 0/360 [00:00<?, ?it/s]"
      ]
     },
     "metadata": {},
     "output_type": "display_data"
    },
    {
     "data": {
      "application/vnd.jupyter.widget-view+json": {
       "model_id": "0dd40ae6ebcb450f87ff516eaa2b6f32",
       "version_major": 2,
       "version_minor": 0
      },
      "text/plain": [
       "  0%|          | 0/360 [00:00<?, ?it/s]"
      ]
     },
     "metadata": {},
     "output_type": "display_data"
    },
    {
     "data": {
      "application/vnd.jupyter.widget-view+json": {
       "model_id": "47d3bf7c13dc43eab382296449773cb0",
       "version_major": 2,
       "version_minor": 0
      },
      "text/plain": [
       "  0%|          | 0/360 [00:00<?, ?it/s]"
      ]
     },
     "metadata": {},
     "output_type": "display_data"
    },
    {
     "data": {
      "application/vnd.jupyter.widget-view+json": {
       "model_id": "4bec5f447a044b4780a35dbee1cd15d9",
       "version_major": 2,
       "version_minor": 0
      },
      "text/plain": [
       "  0%|          | 0/360 [00:00<?, ?it/s]"
      ]
     },
     "metadata": {},
     "output_type": "display_data"
    },
    {
     "data": {
      "application/vnd.jupyter.widget-view+json": {
       "model_id": "77d5e8b585c44565baa365eae5304416",
       "version_major": 2,
       "version_minor": 0
      },
      "text/plain": [
       "  0%|          | 0/360 [00:00<?, ?it/s]"
      ]
     },
     "metadata": {},
     "output_type": "display_data"
    },
    {
     "data": {
      "application/vnd.jupyter.widget-view+json": {
       "model_id": "a77904f79baf4eff8a63e2cf81a42bec",
       "version_major": 2,
       "version_minor": 0
      },
      "text/plain": [
       "  0%|          | 0/360 [00:00<?, ?it/s]"
      ]
     },
     "metadata": {},
     "output_type": "display_data"
    },
    {
     "data": {
      "application/vnd.jupyter.widget-view+json": {
       "model_id": "207d70146c614e94a5229f29e8e710a5",
       "version_major": 2,
       "version_minor": 0
      },
      "text/plain": [
       "  0%|          | 0/360 [00:00<?, ?it/s]"
      ]
     },
     "metadata": {},
     "output_type": "display_data"
    },
    {
     "data": {
      "application/vnd.jupyter.widget-view+json": {
       "model_id": "056116e4162b46d79a927fe4d4380dd6",
       "version_major": 2,
       "version_minor": 0
      },
      "text/plain": [
       "  0%|          | 0/360 [00:00<?, ?it/s]"
      ]
     },
     "metadata": {},
     "output_type": "display_data"
    },
    {
     "data": {
      "application/vnd.jupyter.widget-view+json": {
       "model_id": "e6cd828d71f54666be56d0723e0f4b9b",
       "version_major": 2,
       "version_minor": 0
      },
      "text/plain": [
       "  0%|          | 0/360 [00:00<?, ?it/s]"
      ]
     },
     "metadata": {},
     "output_type": "display_data"
    },
    {
     "data": {
      "application/vnd.jupyter.widget-view+json": {
       "model_id": "5ffd0d21daa94e9cb9e9a91955c3a908",
       "version_major": 2,
       "version_minor": 0
      },
      "text/plain": [
       "  0%|          | 0/360 [00:00<?, ?it/s]"
      ]
     },
     "metadata": {},
     "output_type": "display_data"
    },
    {
     "data": {
      "application/vnd.jupyter.widget-view+json": {
       "model_id": "54572116c4a54055b0e05ca3b3a9ddbd",
       "version_major": 2,
       "version_minor": 0
      },
      "text/plain": [
       "  0%|          | 0/360 [00:00<?, ?it/s]"
      ]
     },
     "metadata": {},
     "output_type": "display_data"
    },
    {
     "data": {
      "application/vnd.jupyter.widget-view+json": {
       "model_id": "a8b38812f3e24a08aca8a8cb9c81e7bd",
       "version_major": 2,
       "version_minor": 0
      },
      "text/plain": [
       "  0%|          | 0/360 [00:00<?, ?it/s]"
      ]
     },
     "metadata": {},
     "output_type": "display_data"
    },
    {
     "data": {
      "application/vnd.jupyter.widget-view+json": {
       "model_id": "bf4c4d3eb76a4c7cb7f34cbeff42589b",
       "version_major": 2,
       "version_minor": 0
      },
      "text/plain": [
       "  0%|          | 0/360 [00:00<?, ?it/s]"
      ]
     },
     "metadata": {},
     "output_type": "display_data"
    },
    {
     "data": {
      "application/vnd.jupyter.widget-view+json": {
       "model_id": "03489b1ab24f4eccb9f97ee5a39d8836",
       "version_major": 2,
       "version_minor": 0
      },
      "text/plain": [
       "  0%|          | 0/360 [00:00<?, ?it/s]"
      ]
     },
     "metadata": {},
     "output_type": "display_data"
    },
    {
     "data": {
      "text/plain": [
       "({'pose_name': 1.77295549488741,\n",
       "  'type_of_practice': 1.7646875012919119,\n",
       "  'variation': 0.39512555991207565,\n",
       "  'position': 2.0631444783206327,\n",
       "  'difficulty': 1.4963276491573105,\n",
       "  'props_required': 0.2392338995716874,\n",
       "  'body_focus': 1.0491245848640036,\n",
       "  'benefits': 1.7364406525582377,\n",
       "  'synonyms': 2.5022067788712308,\n",
       "  'instructions': 0.49163944386874336,\n",
       "  'context': 2.1715194651138052},\n",
       " 0.6116754850088183)"
      ]
     },
     "execution_count": 36,
     "metadata": {},
     "output_type": "execute_result"
    }
   ],
   "source": [
    "simple_optimize(param_ranges, objective, n_iterations=25)"
   ]
  },
  {
   "cell_type": "code",
   "execution_count": 37,
   "metadata": {},
   "outputs": [
    {
     "data": {
      "application/vnd.jupyter.widget-view+json": {
       "model_id": "53e7d4b3f0e64c2abd00c01b7bcb2477",
       "version_major": 2,
       "version_minor": 0
      },
      "text/plain": [
       "  0%|          | 0/720 [00:00<?, ?it/s]"
      ]
     },
     "metadata": {},
     "output_type": "display_data"
    },
    {
     "data": {
      "text/plain": [
       "{'hit_rate': 0.9597222222222223, 'mrr': 0.5865272266313926}"
      ]
     },
     "execution_count": 37,
     "metadata": {},
     "output_type": "execute_result"
    }
   ],
   "source": [
    "def minsearch_improved(query):\n",
    "    boost = {\n",
    "        'pose_name': 1.77295549488741,\n",
    "        'type_of_practice': 1.7646875012919119,\n",
    "        'variation': 0.39512555991207565,\n",
    "        'position': 2.0631444783206327,\n",
    "        'difficulty': 1.4963276491573105,\n",
    "        'props_required': 0.2392338995716874,\n",
    "        'body_focus': 1.0491245848640036,\n",
    "        'benefits': 1.7364406525582377,\n",
    "        'synonyms': 2.5022067788712308,\n",
    "        'instructions': 0.49163944386874336,\n",
    "        'context': 2.1715194651138052\n",
    "    }\n",
    "\n",
    "    results = index.search(\n",
    "        query=query,\n",
    "        filter_dict={},\n",
    "        boost_dict=boost,\n",
    "        num_results=10\n",
    "    )\n",
    "\n",
    "    return results\n",
    "\n",
    "evaluate(ground_truth, lambda q: minsearch_improved(q['question']))\n"
   ]
  },
  {
   "cell_type": "code",
   "execution_count": 38,
   "metadata": {},
   "outputs": [],
   "source": [
    "prompt2_template = \"\"\"\n",
    "You are an expert evaluator for a RAG system.\n",
    "Your task is to analyze the relevance of the generated answer to the given question.\n",
    "Based on the relevance of the generated answer, you will classify it\n",
    "as \"NON_RELEVANT\", \"PARTLY_RELEVANT\", or \"RELEVANT\".\n",
    "\n",
    "Here is the data for evaluation:\n",
    "\n",
    "Question: {question}\n",
    "Generated Answer: {answer_llm}\n",
    "\n",
    "Please analyze the content and context of the generated answer in relation to the question\n",
    "and provide your evaluation in parsable JSON without using code blocks:\n",
    "\n",
    "{{\n",
    "  \"Relevance\": \"NON_RELEVANT\" | \"PARTLY_RELEVANT\" | \"RELEVANT\",\n",
    "  \"Explanation\": \"[Provide a brief explanation for your evaluation]\"\n",
    "}}\n",
    "\"\"\".strip()"
   ]
  },
  {
   "cell_type": "code",
   "execution_count": 39,
   "metadata": {},
   "outputs": [
    {
     "data": {
      "text/plain": [
       "720"
      ]
     },
     "execution_count": 39,
     "metadata": {},
     "output_type": "execute_result"
    }
   ],
   "source": [
    "len(ground_truth)"
   ]
  },
  {
   "cell_type": "code",
   "execution_count": 40,
   "metadata": {},
   "outputs": [],
   "source": [
    "record = ground_truth[0]\n",
    "question = record['question']\n",
    "answer_llm = rag(question)"
   ]
  },
  {
   "cell_type": "code",
   "execution_count": 41,
   "metadata": {},
   "outputs": [
    {
     "name": "stdout",
     "output_type": "stream",
     "text": [
      "You are an expert evaluator for a RAG system.\n",
      "Your task is to analyze the relevance of the generated answer to the given question.\n",
      "Based on the relevance of the generated answer, you will classify it\n",
      "as \"NON_RELEVANT\", \"PARTLY_RELEVANT\", or \"RELEVANT\".\n",
      "\n",
      "Here is the data for evaluation:\n",
      "\n",
      "Question: What modifications can I make to the Downward Dog pose to adapt it for my level as a beginner?\n",
      "Generated Answer: To adapt the Downward Dog pose for your level as a beginner, consider the following modifications:\n",
      "\n",
      "1. **Use a Chair**: Practice the Downward Dog variation with a chair for added support while maintaining the pose's benefits for flexibility and balance. \n",
      "\n",
      "2. **Lying Down**: To further simplify, you can practice a lying down position, where you lie on your back, bend your knees, and lift your hips toward the ceiling. Keep your feet planted on the mat for stability.\n",
      "\n",
      "These modifications will help you ease into the pose while ensuring comfort and safety.\n",
      "\n",
      "Please analyze the content and context of the generated answer in relation to the question\n",
      "and provide your evaluation in parsable JSON without using code blocks:\n",
      "\n",
      "{\n",
      "  \"Relevance\": \"NON_RELEVANT\" | \"PARTLY_RELEVANT\" | \"RELEVANT\",\n",
      "  \"Explanation\": \"[Provide a brief explanation for your evaluation]\"\n",
      "}\n"
     ]
    }
   ],
   "source": [
    "prompt = prompt2_template.format(question=question, answer_llm=answer_llm)\n",
    "print(prompt)"
   ]
  },
  {
   "cell_type": "code",
   "execution_count": 42,
   "metadata": {},
   "outputs": [],
   "source": [
    "data_sample = data_question.sample(n=200, random_state=1)"
   ]
  },
  {
   "cell_type": "code",
   "execution_count": 43,
   "metadata": {},
   "outputs": [],
   "source": [
    "sample = data_sample.to_dict(orient='records')"
   ]
  },
  {
   "cell_type": "code",
   "execution_count": 45,
   "metadata": {},
   "outputs": [
    {
     "data": {
      "application/vnd.jupyter.widget-view+json": {
       "model_id": "3d2c0514d5a241759d7e268fbdca5329",
       "version_major": 2,
       "version_minor": 0
      },
      "text/plain": [
       "  0%|          | 0/200 [00:00<?, ?it/s]"
      ]
     },
     "metadata": {},
     "output_type": "display_data"
    }
   ],
   "source": [
    "evaluations = []\n",
    "\n",
    "for record in tqdm(sample):\n",
    "    question = record['question']\n",
    "    answer_llm = rag(question) \n",
    "\n",
    "    prompt = prompt2_template.format(\n",
    "        question=question,\n",
    "        answer_llm=answer_llm\n",
    "    )\n",
    "\n",
    "    evaluation = llm(prompt)\n",
    "    evaluation = json.loads(evaluation)\n",
    "\n",
    "    evaluations.append((record, answer_llm, evaluation))"
   ]
  },
  {
   "cell_type": "code",
   "execution_count": 46,
   "metadata": {},
   "outputs": [],
   "source": [
    "data_eval = pd.DataFrame(evaluations, columns=['record', 'answer', 'evaluation'])\n",
    "\n",
    "data_eval['id'] = data_eval.record.apply(lambda d: d['id'])\n",
    "data_eval['question'] = data_eval.record.apply(lambda d: d['question'])\n",
    "\n",
    "data_eval['relevance'] = data_eval.evaluation.apply(lambda d: d['Relevance'])\n",
    "data_eval['explanation'] = data_eval.evaluation.apply(lambda d: d['Explanation'])\n",
    "\n",
    "del data_eval['record']\n",
    "del data_eval['evaluation']"
   ]
  },
  {
   "cell_type": "code",
   "execution_count": 48,
   "metadata": {},
   "outputs": [
    {
     "data": {
      "text/plain": [
       "relevance\n",
       "RELEVANT           132\n",
       "PARTLY_RELEVANT     63\n",
       "NON_RELEVANT         5\n",
       "Name: count, dtype: int64"
      ]
     },
     "execution_count": 48,
     "metadata": {},
     "output_type": "execute_result"
    }
   ],
   "source": [
    "data_eval.relevance.value_counts()"
   ]
  },
  {
   "cell_type": "code",
   "execution_count": 47,
   "metadata": {},
   "outputs": [
    {
     "data": {
      "text/plain": [
       "relevance\n",
       "RELEVANT           0.660\n",
       "PARTLY_RELEVANT    0.315\n",
       "NON_RELEVANT       0.025\n",
       "Name: proportion, dtype: float64"
      ]
     },
     "execution_count": 47,
     "metadata": {},
     "output_type": "execute_result"
    }
   ],
   "source": [
    "data_eval.relevance.value_counts(normalize=True)"
   ]
  },
  {
   "cell_type": "code",
   "execution_count": 49,
   "metadata": {},
   "outputs": [],
   "source": [
    "data_eval.to_csv('../data/rag-eval-gpt-4o-mini.csv', index=False)"
   ]
  },
  {
   "cell_type": "code",
   "execution_count": 50,
   "metadata": {},
   "outputs": [
    {
     "data": {
      "text/html": [
       "<div>\n",
       "<style scoped>\n",
       "    .dataframe tbody tr th:only-of-type {\n",
       "        vertical-align: middle;\n",
       "    }\n",
       "\n",
       "    .dataframe tbody tr th {\n",
       "        vertical-align: top;\n",
       "    }\n",
       "\n",
       "    .dataframe thead th {\n",
       "        text-align: right;\n",
       "    }\n",
       "</style>\n",
       "<table border=\"1\" class=\"dataframe\">\n",
       "  <thead>\n",
       "    <tr style=\"text-align: right;\">\n",
       "      <th></th>\n",
       "      <th>answer</th>\n",
       "      <th>id</th>\n",
       "      <th>question</th>\n",
       "      <th>relevance</th>\n",
       "      <th>explanation</th>\n",
       "    </tr>\n",
       "  </thead>\n",
       "  <tbody>\n",
       "    <tr>\n",
       "      <th>53</th>\n",
       "      <td>To achieve the correct form in Chair Pose and ...</td>\n",
       "      <td>c6a20421</td>\n",
       "      <td>What are the key instructions for achieving th...</td>\n",
       "      <td>NON_RELEVANT</td>\n",
       "      <td>The generated answer does not correctly addres...</td>\n",
       "    </tr>\n",
       "    <tr>\n",
       "      <th>83</th>\n",
       "      <td>The key instructions for performing the Seated...</td>\n",
       "      <td>d1d86d31</td>\n",
       "      <td>What are the key instructions for performing t...</td>\n",
       "      <td>NON_RELEVANT</td>\n",
       "      <td>The generated answer provides instructions tha...</td>\n",
       "    </tr>\n",
       "    <tr>\n",
       "      <th>93</th>\n",
       "      <td>The essential steps to correctly perform the T...</td>\n",
       "      <td>0fc8bd91</td>\n",
       "      <td>What are the essential steps to correctly perf...</td>\n",
       "      <td>NON_RELEVANT</td>\n",
       "      <td>The generated answer does not correctly addres...</td>\n",
       "    </tr>\n",
       "    <tr>\n",
       "      <th>120</th>\n",
       "      <td>To perform the Bridge Pose effectively, the st...</td>\n",
       "      <td>88c36c85</td>\n",
       "      <td>Can you explain the proper standing position r...</td>\n",
       "      <td>NON_RELEVANT</td>\n",
       "      <td>The answer discusses a standing position that ...</td>\n",
       "    </tr>\n",
       "    <tr>\n",
       "      <th>143</th>\n",
       "      <td>To perform Half Pigeon Pose correctly:\\n\\n1. *...</td>\n",
       "      <td>bbfe10fc</td>\n",
       "      <td>Can you describe how to perform Half Pigeon Po...</td>\n",
       "      <td>NON_RELEVANT</td>\n",
       "      <td>The generated answer does not address the spec...</td>\n",
       "    </tr>\n",
       "  </tbody>\n",
       "</table>\n",
       "</div>"
      ],
      "text/plain": [
       "                                                answer        id  \\\n",
       "53   To achieve the correct form in Chair Pose and ...  c6a20421   \n",
       "83   The key instructions for performing the Seated...  d1d86d31   \n",
       "93   The essential steps to correctly perform the T...  0fc8bd91   \n",
       "120  To perform the Bridge Pose effectively, the st...  88c36c85   \n",
       "143  To perform Half Pigeon Pose correctly:\\n\\n1. *...  bbfe10fc   \n",
       "\n",
       "                                              question     relevance  \\\n",
       "53   What are the key instructions for achieving th...  NON_RELEVANT   \n",
       "83   What are the key instructions for performing t...  NON_RELEVANT   \n",
       "93   What are the essential steps to correctly perf...  NON_RELEVANT   \n",
       "120  Can you explain the proper standing position r...  NON_RELEVANT   \n",
       "143  Can you describe how to perform Half Pigeon Po...  NON_RELEVANT   \n",
       "\n",
       "                                           explanation  \n",
       "53   The generated answer does not correctly addres...  \n",
       "83   The generated answer provides instructions tha...  \n",
       "93   The generated answer does not correctly addres...  \n",
       "120  The answer discusses a standing position that ...  \n",
       "143  The generated answer does not address the spec...  "
      ]
     },
     "execution_count": 50,
     "metadata": {},
     "output_type": "execute_result"
    }
   ],
   "source": [
    "data_eval[data_eval.relevance == 'NON_RELEVANT']"
   ]
  },
  {
   "cell_type": "code",
   "execution_count": 51,
   "metadata": {},
   "outputs": [
    {
     "data": {
      "application/vnd.jupyter.widget-view+json": {
       "model_id": "f3ac1dba2a184ec3b1f4e77258410b0e",
       "version_major": 2,
       "version_minor": 0
      },
      "text/plain": [
       "  0%|          | 0/200 [00:00<?, ?it/s]"
      ]
     },
     "metadata": {},
     "output_type": "display_data"
    }
   ],
   "source": [
    "evaluations_gpt4o = []\n",
    "\n",
    "for record in tqdm(sample):\n",
    "    question = record['question']\n",
    "    answer_llm = rag(question, model='gpt-4o') \n",
    "\n",
    "    prompt = prompt2_template.format(\n",
    "        question=question,\n",
    "        answer_llm=answer_llm\n",
    "    )\n",
    "\n",
    "    evaluation = llm(prompt)\n",
    "    evaluation = json.loads(evaluation)\n",
    "    \n",
    "    evaluations_gpt4o.append((record, answer_llm, evaluation))"
   ]
  },
  {
   "cell_type": "code",
   "execution_count": 52,
   "metadata": {},
   "outputs": [],
   "source": [
    "data_eval = pd.DataFrame(evaluations_gpt4o, columns=['record', 'answer', 'evaluation'])\n",
    "\n",
    "data_eval['id'] = data_eval.record.apply(lambda d: d['id'])\n",
    "data_eval['question'] = data_eval.record.apply(lambda d: d['question'])\n",
    "\n",
    "data_eval['relevance'] = data_eval.evaluation.apply(lambda d: d['Relevance'])\n",
    "data_eval['explanation'] = data_eval.evaluation.apply(lambda d: d['Explanation'])\n",
    "\n",
    "del data_eval['record']\n",
    "del data_eval['evaluation']"
   ]
  },
  {
   "cell_type": "code",
   "execution_count": 53,
   "metadata": {},
   "outputs": [
    {
     "data": {
      "text/plain": [
       "relevance\n",
       "RELEVANT           98\n",
       "PARTLY_RELEVANT    80\n",
       "NON_RELEVANT       22\n",
       "Name: count, dtype: int64"
      ]
     },
     "execution_count": 53,
     "metadata": {},
     "output_type": "execute_result"
    }
   ],
   "source": [
    "data_eval.relevance.value_counts()"
   ]
  },
  {
   "cell_type": "code",
   "execution_count": 54,
   "metadata": {},
   "outputs": [
    {
     "data": {
      "text/plain": [
       "relevance\n",
       "RELEVANT           0.49\n",
       "PARTLY_RELEVANT    0.40\n",
       "NON_RELEVANT       0.11\n",
       "Name: proportion, dtype: float64"
      ]
     },
     "execution_count": 54,
     "metadata": {},
     "output_type": "execute_result"
    }
   ],
   "source": [
    "data_eval.relevance.value_counts(normalize=True)"
   ]
  },
  {
   "cell_type": "code",
   "execution_count": 55,
   "metadata": {},
   "outputs": [],
   "source": [
    "data_eval.to_csv('../data/rag-eval-gpt-4o.csv', index=False)"
   ]
  }
 ],
 "metadata": {
  "kernelspec": {
   "display_name": "Python 3",
   "language": "python",
   "name": "python3"
  },
  "language_info": {
   "codemirror_mode": {
    "name": "ipython",
    "version": 3
   },
   "file_extension": ".py",
   "mimetype": "text/x-python",
   "name": "python",
   "nbconvert_exporter": "python",
   "pygments_lexer": "ipython3",
   "version": "3.12.1"
  }
 },
 "nbformat": 4,
 "nbformat_minor": 2
}
